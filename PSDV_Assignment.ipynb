{
 "cells": [
  {
   "cell_type": "code",
   "execution_count": 2,
   "id": "fd4e194e-384f-4654-b7f8-977deb40f06d",
   "metadata": {},
   "outputs": [
    {
     "name": "stdout",
     "output_type": "stream",
     "text": [
      "mean:10.5\n",
      "median:10.5\n",
      "standard deviation:5.916079783099616\n"
     ]
    }
   ],
   "source": [
    "#1.List Operations and Basic Statistics\n",
    "numbers_list=[]\n",
    "s=0\n",
    "for i in range(20):\n",
    "    s+=1\n",
    "    numbers_list.append(s)\n",
    "sum_of_even_numbers=0\n",
    "product_of_odd_numbers=1\n",
    "for number in numbers_list:\n",
    "#sum of even numbers\n",
    "    if number%2==0:\n",
    "        sum_of_even_numbers+=number\n",
    "#product of odd numbers        \n",
    "    else:\n",
    "        product_of_odd_numbers*=number\n",
    "total_sum=sum(numbers_list)\n",
    "#mean \n",
    "list_mean=total_sum/len(numbers_list)\n",
    "print(f'mean:{list_mean}')\n",
    "#median\n",
    "a=len(numbers_list)\n",
    "list_median=((numbers_list[(int(a/2))-1]) + (numbers_list[int(a/2)]))/2\n",
    "print(f'median:{list_median}')\n",
    "#standard deviation\n",
    "import statistics\n",
    "\n",
    "std_dev = statistics.stdev(numbers_list)\n",
    "\n",
    "print(f'standard deviation:{std_dev}')\n"
   ]
  },
  {
   "cell_type": "code",
   "execution_count": 7,
   "id": "a254fa57-1f03-44c8-bd18-ddb4f7ceac21",
   "metadata": {},
   "outputs": [
    {
     "name": "stdout",
     "output_type": "stream",
     "text": [
      "[1, 2, 0, 4, 5]\n",
      "{'a': 'e', 'c': 'd'}\n"
     ]
    }
   ],
   "source": [
    "#2.mutable vs immutable datatypes\n",
    "\n",
    "#Mutable datatypes:the data entered in these data types can be modified,after they are created.\n",
    "#examples:\n",
    "#1.lists\n",
    "num_list=[1,2,3,4,5]\n",
    "num_list[2]=0\n",
    "print(num_list)\n",
    "#DICTIONARIES\n",
    "#we can change the values for the given keys.\n",
    "dictio={'a':'b','c':'d'}\n",
    "dictio['a']='e'\n",
    "print(dictio)\n",
    "\n",
    "#Immutable datatypes=the data entered in these data types cannot be modified after they are created.\n",
    "#examples:\n",
    "#tuples\n",
    "#tuplee=(1,2,3)\n",
    "#tuplee[0]=10\n",
    "#error will occur\n",
    "#strings\n",
    "#clg='Gandhinagar'\n",
    "#clg[0]='g'\n",
    "#error will occur\n"
   ]
  },
  {
   "cell_type": "code",
   "execution_count": 1,
   "id": "7bb7e18a-5d4f-44b0-802f-b9be76188e3a",
   "metadata": {},
   "outputs": [
    {
     "name": "stdout",
     "output_type": "stream",
     "text": [
      "[0, 1, 1, 2, 3, 5, 8, 13, 21, 34]\n"
     ]
    }
   ],
   "source": [
    "#3.fibonacci sequence\n",
    "n = 10\n",
    "a, b = 0, 1\n",
    "fib_list = []\n",
    "for _ in range(n):\n",
    "    fib_list.append(a)\n",
    "    a, b = b, a + b  # Updating a and b\n",
    "print(fib_list)\n"
   ]
  },
  {
   "cell_type": "code",
   "execution_count": 2,
   "id": "13efba9a-e356-4d02-b708-da3dc6b0165a",
   "metadata": {},
   "outputs": [
    {
     "name": "stdout",
     "output_type": "stream",
     "text": [
      "[3, 5, 7, 6, 9, 11, 13]\n",
      "[3, 5, 6, 9, 11, 13]\n",
      "[13, 11, 9, 6, 5, 3]\n",
      "7.833333333333333\n",
      "median:7.5\n"
     ]
    }
   ],
   "source": [
    "#4.list manipulationn\n",
    "list=[3,5,7,9,11,13]\n",
    "list.insert(3,6)\n",
    "print(list)\n",
    "list.remove(7)\n",
    "print(list)\n",
    "list=list[::-1]\n",
    "print(list)\n",
    "#mean calculation\n",
    "total_sum=sum(list)\n",
    "l=len(list)\n",
    "mean=total_sum/l\n",
    "print(mean)\n",
    "#median calculation\n",
    "a=len(list)\n",
    "list_median=((list[(int(a/2))-1]) + (list[int(a/2)]))/2\n",
    "print(f'median:{list_median}')"
   ]
  },
  {
   "cell_type": "code",
   "execution_count": 3,
   "id": "9cdd9ad4-afd7-4e0d-be46-c2561a473824",
   "metadata": {},
   "outputs": [
    {
     "name": "stdin",
     "output_type": "stream",
     "text": [
      " naman\n"
     ]
    },
    {
     "name": "stdout",
     "output_type": "stream",
     "text": [
      "True\n"
     ]
    }
   ],
   "source": [
    "#6.palindrome check\n",
    "string=input()\n",
    "string_with_no_spaces=''.join(string.split())\n",
    "string_with_no_spaces=string_with_no_spaces.lower()\n",
    "\n",
    "reversed_string=string_with_no_spaces[::-1]\n",
    "if reversed_string==string_with_no_spaces:\n",
    "    print('True')\n",
    "else:\n",
    "    print('False')"
   ]
  },
  {
   "cell_type": "code",
   "execution_count": 4,
   "id": "bea9c83b-170f-48cf-b7a7-09444639f280",
   "metadata": {},
   "outputs": [
    {
     "name": "stdout",
     "output_type": "stream",
     "text": [
      "h\n",
      "e\n",
      "l\n",
      "o\n",
      "r\n"
     ]
    }
   ],
   "source": [
    "#7.dictionary operations\n",
    "dict={'h': 12, 'e': 11, 'l':13, 'o': 12, 'w': 6, 'r': 11, 'd': 1}\n",
    "marks_list=[i for i in dict.values()]\n",
    "import statistics\n",
    "avg=statistics.mean(marks_list)\n",
    "for i,j in dict.items():\n",
    "    if j>avg:\n",
    "        print(i)"
   ]
  },
  {
   "cell_type": "code",
   "execution_count": 5,
   "id": "1741f535-a8fd-4e3b-8b6e-3a7600b960da",
   "metadata": {},
   "outputs": [
    {
     "name": "stdin",
     "output_type": "stream",
     "text": [
      "no.of pairs:  2\n",
      "key:  a\n",
      "value:  10\n",
      "key:  b\n",
      "value:  20\n",
      "no.of pairs:  2\n",
      "key:  c\n",
      "value:  40\n",
      "key:  b\n",
      "value:  50\n"
     ]
    },
    {
     "name": "stdout",
     "output_type": "stream",
     "text": [
      "{'a': 10, 'b': 70, 'c': 40}\n"
     ]
    }
   ],
   "source": [
    "#9.merging dictionaries\n",
    "def dictionaries_inputs():\n",
    "    dictio={}\n",
    "    n=int(input(\"no.of pairs: \"))\n",
    "    for i in range(n):\n",
    "        key=input(\"key: \")\n",
    "#for the addition of values integer values are taken        \n",
    "        value=int(input(\"value: \"))\n",
    "        dictio[key]=value\n",
    "    return dictio\n",
    "#taking two dictionaries\n",
    "dict_1=dictionaries_inputs()\n",
    "dict_2=dictionaries_inputs()\n",
    "\n",
    "#creating a copy of dict_1\n",
    "new_dict=dict_1.copy()\n",
    "for key,value in dict_2.items():\n",
    "    new_dict[key]=dict_1.get(key,0) + value\n",
    "print(new_dict)"
   ]
  },
  {
   "cell_type": "code",
   "execution_count": 6,
   "id": "b9c5746f-db0f-4b87-9cc7-316011c1f9f5",
   "metadata": {},
   "outputs": [
    {
     "name": "stdin",
     "output_type": "stream",
     "text": [
      " hyderabad\n"
     ]
    },
    {
     "name": "stdout",
     "output_type": "stream",
     "text": [
      "{'h': 1, 'y': 1, 'd': 2, 'e': 1, 'r': 1, 'a': 2, 'b': 1}\n"
     ]
    }
   ],
   "source": [
    "#10.character frenquency\n",
    "string=input()\n",
    "string =string.lower()\n",
    "frequency = {}\n",
    "for i in string:\n",
    "    if i != ' ':  \n",
    "        frequency[i] = frequency.get(i, 0) + 1\n",
    "print(frequency)"
   ]
  },
  {
   "cell_type": "code",
   "execution_count": 8,
   "id": "29b18c12-f3b6-4036-bc0d-5fbe639f9c13",
   "metadata": {},
   "outputs": [
    {
     "name": "stdout",
     "output_type": "stream",
     "text": [
      "[1, 2, 3, 4, 7, 9, 5]\n",
      "mean:4.428571428571429\n",
      "median:4.0\n"
     ]
    }
   ],
   "source": [
    "#11.remove duplicates\n",
    "full_list=[1,2,1,3,4,2,1,3,4,1,7,9,5]\n",
    "new_list=[]\n",
    "for i in full_list:\n",
    "    if i not in new_list:\n",
    "        new_list.append(i)\n",
    "print(new_list)\n",
    "#mean \n",
    "total_sum=sum(new_list)\n",
    "list_mean=total_sum/len(new_list)\n",
    "print(f'mean:{list_mean}')\n",
    "#median\n",
    "a=len(new_list)\n",
    "new_list.sort()\n",
    "if a%2!=0:\n",
    "    print(f'median:{(a-1)/2+1}')\n",
    "else:\n",
    "    list_median=((new_list[(int(a/2))-1]) + (new_list[int(a/2)]))/2\n",
    "    print(f'median:{list_median}')"
   ]
  },
  {
   "cell_type": "code",
   "execution_count": 9,
   "id": "bba42711-3909-4cbf-bbf5-348940f83563",
   "metadata": {},
   "outputs": [
    {
     "name": "stdout",
     "output_type": "stream",
     "text": [
      "Longest string: important\n",
      "Count of strings: 5\n"
     ]
    }
   ],
   "source": [
    "#12.string operations\n",
    "strings_of_words = [\"admin\", \"orange\", \"bed\", \"important\",\"gandhi\",\"enormous\", \"omkar\"]\n",
    "\n",
    "\n",
    "longest_string = max(strings_of_words, key=len)\n",
    "\n",
    "vowels = {'a', 'e', 'i', 'o', 'u', 'A', 'E', 'I', 'O', 'U'}\n",
    "starting_with_vowel = sum(1 for s in strings_of_words if s and s[0] in vowels)\n",
    "\n",
    "\n",
    "print(f\"Longest string: {longest_string}\")\n",
    "print(f\"Count of strings: {starting_with_vowel}\")"
   ]
  },
  {
   "cell_type": "code",
   "execution_count": 10,
   "id": "ef8fc47a-a6ca-4c25-a58d-09ce8012592b",
   "metadata": {},
   "outputs": [
    {
     "name": "stdin",
     "output_type": "stream",
     "text": [
      " listen\n",
      " apple banana enlist inlets rice\n"
     ]
    },
    {
     "name": "stdout",
     "output_type": "stream",
     "text": [
      "['enlist', 'inlets']\n"
     ]
    }
   ],
   "source": [
    "#15.anagram finder\n",
    "word=input()\n",
    "words_list=input().split()\n",
    "sorted_word=sorted(word)\n",
    "anagrams_list=[]\n",
    "for i in words_list:\n",
    "    sorted_word_in_list=sorted(i)\n",
    "    if  sorted_word_in_list==sorted_word:\n",
    "        anagrams_list.append(i)\n",
    "print(anagrams_list)"
   ]
  },
  {
   "cell_type": "code",
   "execution_count": 11,
   "id": "abf110d9-5487-4784-8bf1-157bb9655bd3",
   "metadata": {},
   "outputs": [
    {
     "name": "stdout",
     "output_type": "stream",
     "text": [
      "[1, 2, 3, 4, 5]\n",
      "[3, 2, 7, 5, 9]\n",
      "intersection of a and b:[2, 3, 5]\n",
      "union of a and b is[1, 2, 3, 4, 5, 7, 9]\n",
      "Symmetric difference: [1, 4, 7, 9]\n"
     ]
    }
   ],
   "source": [
    "#16.set operations\n",
    "\n",
    "a=[1,2,3,4,3,5]\n",
    "b=[3,2,7,5,2,9]\n",
    "#first removing duplicates\n",
    "new_list_a=[]\n",
    "for i in a:\n",
    "    if i not in new_list_a:\n",
    "        new_list_a.append(i)\n",
    "print(new_list_a)\n",
    "\n",
    "new_list_b=[]\n",
    "for i in b:\n",
    "    if i not in new_list_b:\n",
    "        new_list_b.append(i)\n",
    "print(new_list_b)\n",
    "\n",
    "#intersection \n",
    "intersection=[]\n",
    "for i in new_list_a:\n",
    "    if i in new_list_b and i not in intersection:\n",
    "        intersection.append(i)\n",
    "print(f'intersection of a and b:{intersection}')\n",
    "\n",
    "\n",
    "#union\n",
    "union=[]\n",
    "for i in new_list_a:\n",
    "    union.append(i)\n",
    "for i in new_list_b:\n",
    "    if i not in union:\n",
    "        union.append(i)\n",
    "print(f'union of a and b is{union}')\n",
    "\n",
    "#symmetric difference\n",
    "# Example lists\n",
    "list1 = [1, 2, 3, 4]\n",
    "list2 = [3, 4, 5, 6]\n",
    "\n",
    "# Symmetric difference without sets\n",
    "sym_diff = [x for x in new_list_a if x not in new_list_b] + [x for x in new_list_b if x not in new_list_a]\n",
    "\n",
    "print(\"Symmetric difference:\", sym_diff)"
   ]
  },
  {
   "cell_type": "code",
   "execution_count": null,
   "id": "8b93d62a-d20c-4771-8169-138dd7e241d4",
   "metadata": {},
   "outputs": [],
   "source": [
    "#22.normalization\n",
    "def normalisation_of_numbers(lisst):\n",
    "    n=max(lisst)\n",
    "    \n",
    "    if n==0:\n",
    "        return [0] * len(lisst)\n",
    "    lisst=[i/n for i in lisst]\n",
    "    return lisst\n",
    "lisst=list(map(int,input().split()))\n",
    "result=normalisation_of_numbers(lisst)\n",
    "print(result)"
   ]
  },
  {
   "cell_type": "code",
   "execution_count": 14,
   "id": "316a50cd-c0e9-47c1-8617-405a245f244d",
   "metadata": {},
   "outputs": [
    {
     "name": "stdin",
     "output_type": "stream",
     "text": [
      "enter the number:  22\n"
     ]
    },
    {
     "name": "stdout",
     "output_type": "stream",
     "text": [
      "even number\n"
     ]
    }
   ],
   "source": [
    "#23.even or odd\n",
    "number=int(input('enter the number: '))\n",
    "if number%2==0:\n",
    "    print('even number')\n",
    "else:\n",
    "    print('odd number')"
   ]
  },
  {
   "cell_type": "code",
   "execution_count": 15,
   "id": "6fe8e66f-dda0-473d-9be8-4df26c5ce3ee",
   "metadata": {},
   "outputs": [
    {
     "name": "stdin",
     "output_type": "stream",
     "text": [
      "Enter the numerical grade:  22\n"
     ]
    },
    {
     "name": "stdout",
     "output_type": "stream",
     "text": [
      "The letter grade is: F\n"
     ]
    }
   ],
   "source": [
    "#24.grade calculator\n",
    "def grades(grade):\n",
    "    if 90 <= grade <= 100:\n",
    "        return \"A\"\n",
    "    elif 80 <= grade < 90:\n",
    "        return \"B\"\n",
    "    elif 70 <= grade < 80:\n",
    "        return \"C\"\n",
    "    elif 60 <= grade < 70:\n",
    "        return \"D\"\n",
    "    elif 0 <= grade < 60:\n",
    "        return \"F\"\n",
    "    else:\n",
    "        return \"Invalid grade\"\n",
    "try:\n",
    "    grade = float(input(\"Enter the numerical grade: \"))\n",
    "    print(f\"The letter grade is: {grades(grade)}\")\n",
    "except ValueError:\n",
    "    print(\"Please enter a valid number.\")"
   ]
  },
  {
   "cell_type": "code",
   "execution_count": 16,
   "id": "ed1c8d73-8f70-4001-ac57-1ed781c2d2b8",
   "metadata": {},
   "outputs": [
    {
     "name": "stdin",
     "output_type": "stream",
     "text": [
      "enter the year:  2020\n"
     ]
    },
    {
     "name": "stdout",
     "output_type": "stream",
     "text": [
      "Yes.it is a leap year\n"
     ]
    }
   ],
   "source": [
    "#25.leap year checker\n",
    "n=int(input('enter the year: '))\n",
    "if n%4==0:\n",
    "    if n%100==0 and n%400==0:\n",
    "        print('Yes,it is a leap year')\n",
    "    elif n%100==0 and n%400!=0:\n",
    "        print('it is not a leap year')\n",
    "    else:\n",
    "        print('Yes.it is a leap year')\n",
    "else:\n",
    "    print('it is not a leap year')\n",
    "      "
   ]
  },
  {
   "cell_type": "code",
   "execution_count": null,
   "id": "3298acaa-17ce-49eb-9bdd-f08b18fcff18",
   "metadata": {},
   "outputs": [],
   "source": []
  }
 ],
 "metadata": {
  "kernelspec": {
   "display_name": "Python 3 (ipykernel)",
   "language": "python",
   "name": "python3"
  },
  "language_info": {
   "codemirror_mode": {
    "name": "ipython",
    "version": 3
   },
   "file_extension": ".py",
   "mimetype": "text/x-python",
   "name": "python",
   "nbconvert_exporter": "python",
   "pygments_lexer": "ipython3",
   "version": "3.12.5"
  }
 },
 "nbformat": 4,
 "nbformat_minor": 5
}
